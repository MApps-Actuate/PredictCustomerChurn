{
 "cells": [
  {
   "cell_type": "markdown",
   "metadata": {},
   "source": [
    "# ============================================================="
   ]
  },
  {
   "cell_type": "markdown",
   "metadata": {},
   "source": [
    "#  Predicting Customer Churn with Spark Machine Learning & Magellan"
   ]
  },
  {
   "cell_type": "markdown",
   "metadata": {},
   "source": [
    "# ============================================================="
   ]
  },
  {
   "cell_type": "markdown",
   "metadata": {},
   "source": [
    "What is Magellan ?\n",
    "- Magellan is a flexible, AI-powered Analytics platform that combines open source ML with advanced analytics, enterprise-grade BI, and capabilities to acquire, merge, manage and analyze Big Data and Big Content stored in your Enterprise Information Management (EIM) systems. Magellan enables machine-assisted decision making, automation, and business optimization.\n",
    "\n",
    "\n",
    "What is Spark Machine Learning ?\n",
    "\n",
    "- Apache Spark’s machine learning library makes practical machine learning scalable and easy. The library consists of common machine learning algorithms and utilities, including classification, regression, clustering, collaborative filtering, dimensionality reduction, lower-level optimization primitives, and higher-level pipeline APIs."
   ]
  },
  {
   "cell_type": "markdown",
   "metadata": {},
   "source": [
    "What is this Notebook about?\n",
    "- In this magellan notebook, you will use Apache Spark and the Spark machine learning library to build a Customer Churn Prediction model.\n",
    "\n",
    "- Customer Churn refers to when a customer ceases to complete target actions (e.g. add to cart, leave a comment, etc.) within a given period of time OR when a customer ceases his or her relationship with a company. \n",
    "- Thus, predicting “likely-to-churn” from engaged customers will allow us to:\n",
    "\n",
    "    1. Analyze the reasons for such behavior \n",
    "    2. Refocus and personalize offerings for different groups of churning customers\n",
    "    3. Proactivley target likely to churn customers with customized offerings\n",
    "   \n",
    "What are the Notebook Requirements?\n",
    "\n",
    "- This notebook uses Pyspark2 kernel (pre configured to integrate with other parts of magellan, includes multiple open source libraries and ready to leverage big data tools like apache spark)\n",
    "- Customer Data stored in magellan data lake / hadoop\n",
    "- Sample data for making predictions in BDA - \"churndata_test\"\n",
    "- Magellan 20.2 version"
   ]
  },
  {
   "cell_type": "markdown",
   "metadata": {},
   "source": [
    "# ============================================================="
   ]
  },
  {
   "cell_type": "markdown",
   "metadata": {},
   "source": [
    "# In this notebook, you will learn how to:\n",
    "\n",
    "1. Load data stored in Magellan Data Lake / Hadoop Distributed File System (HDFS)\n",
    "2. Conduct data exploration\n",
    "3. Clean and prepare data for model building\n",
    "4. Create a machine learning pipeline using Apache Spark\n",
    "5. Train, test and evaluate a model\n",
    "6. Store a machine learning pipeline in the Magellan Data Lake Hadoop Repository\n",
    "7. Explore and visualize the prediction results\n",
    "8. Publish & deploy a machine learning pipeline - so that operational users can access the model and make predictions"
   ]
  },
  {
   "cell_type": "markdown",
   "metadata": {},
   "source": [
    "# ============================================================="
   ]
  },
  {
   "cell_type": "markdown",
   "metadata": {},
   "source": [
    "# 1. Load data from the magellan data lake\n"
   ]
  },
  {
   "cell_type": "code",
   "execution_count": 1,
   "metadata": {},
   "outputs": [],
   "source": [
    "#load the customer data with relevant columns only\n",
    "customers_data = spark.sql(\"select age, age_numeric, churn, days_since_last_login, income,\\\n",
    " gender_decode, occupation_decode, orders, product_count from customer_churn.historical_churn_data\")\n"
   ]
  },
  {
   "cell_type": "markdown",
   "metadata": {},
   "source": [
    "# 2. Conduct data exploration\n"
   ]
  },
  {
   "cell_type": "markdown",
   "metadata": {},
   "source": [
    "- Check the type of variables\n",
    "- Count number of records\n",
    "- Check distribution of target label\n",
    "- Check Missing Values % "
   ]
  },
  {
   "cell_type": "code",
   "execution_count": 2,
   "metadata": {
    "scrolled": false
   },
   "outputs": [
    {
     "name": "stdout",
     "output_type": "stream",
     "text": [
      "root\n",
      " |-- age: integer (nullable = true)\n",
      " |-- age_numeric: string (nullable = true)\n",
      " |-- churn: integer (nullable = true)\n",
      " |-- days_since_last_login: double (nullable = true)\n",
      " |-- income: double (nullable = true)\n",
      " |-- gender_decode: string (nullable = true)\n",
      " |-- occupation_decode: string (nullable = true)\n",
      " |-- orders: integer (nullable = true)\n",
      " |-- product_count: integer (nullable = true)\n",
      "\n"
     ]
    }
   ],
   "source": [
    "customers_data.printSchema()"
   ]
  },
  {
   "cell_type": "code",
   "execution_count": 3,
   "metadata": {
    "scrolled": true
   },
   "outputs": [
    {
     "name": "stdout",
     "output_type": "stream",
     "text": [
      "There are 259874 customer records\n"
     ]
    }
   ],
   "source": [
    "print('There are {0} customer records'.format(customers_data.count(),',d'))"
   ]
  },
  {
   "cell_type": "code",
   "execution_count": 4,
   "metadata": {},
   "outputs": [],
   "source": [
    "# import visualization packages\n",
    "import seaborn as sns\n",
    "import matplotlib.pyplot as plt\n",
    "import pandas as pd"
   ]
  },
  {
   "cell_type": "code",
   "execution_count": 5,
   "metadata": {
    "scrolled": false
   },
   "outputs": [
    {
     "data": {
      "image/png": "[encoded data removed]",
      "text/plain": [
       "<Figure size 432x288 with 1 Axes>"
      ]
     },
     "metadata": {
      "needs_background": "light"
     },
     "output_type": "display_data"
    }
   ],
   "source": [
    "data = customers_data.toPandas()\n",
    "data['churn'].value_counts().plot(kind = 'bar')\n",
    "plt.xlabel('Whether Customer Churned Or Not')\n",
    "plt.title('Customer Churn')\n",
    "plt.show()"
   ]
  },
  {
   "cell_type": "markdown",
   "metadata": {},
   "source": [
    "- % of missing values in each column\n"
   ]
  },
  {
   "cell_type": "code",
   "execution_count": 6,
   "metadata": {},
   "outputs": [
    {
     "data": {
      "text/plain": [
       "age                       0.00\n",
       "age_numeric               0.00\n",
       "churn                     0.00\n",
       "days_since_last_login     0.00\n",
       "income                   13.45\n",
       "gender_decode             6.04\n",
       "occupation_decode         0.01\n",
       "orders                    0.00\n",
       "product_count             0.00\n",
       "dtype: float64"
      ]
     },
     "execution_count": 6,
     "metadata": {},
     "output_type": "execute_result"
    }
   ],
   "source": [
    "((data.isnull().sum()/data.shape[0])*100).round(decimals=2)"
   ]
  },
  {
   "cell_type": "markdown",
   "metadata": {},
   "source": [
    "# 3. Clean and Impute Missing Data for model building\n"
   ]
  },
  {
   "cell_type": "markdown",
   "metadata": {},
   "source": [
    "- Replace numerical columns with median value\n",
    "- Replace categorical / text columns with \"NA\""
   ]
  },
  {
   "cell_type": "code",
   "execution_count": 7,
   "metadata": {},
   "outputs": [],
   "source": [
    "# Only select numerical columns \n",
    "num_cols = [col_type[0] for col_type in filter(lambda dtype: dtype[1] in {\"bigint\", \"double\", \"int\"}, customers_data.dtypes)]\n",
    "\n",
    "# Compute a dictionary with <col_name, median_value>\n",
    "median_dict = dict()\n",
    "\n",
    "# for each column compute median value for it \n",
    "for c in num_cols:\n",
    "       median_dict[c] = customers_data.stat.approxQuantile(c, [0.5], 0.001)[0]\n",
    "        \n",
    "# fill in missing values for each column with median value\n",
    "customers_data = customers_data.na.fill(median_dict)"
   ]
  },
  {
   "cell_type": "code",
   "execution_count": 8,
   "metadata": {},
   "outputs": [],
   "source": [
    "# fill in values for categorical column with NA\n",
    "customers_data = customers_data.fillna('NA', 'gender_decode')\n",
    "customers_data = customers_data.fillna('NA', 'occupation_decode')\n"
   ]
  },
  {
   "cell_type": "markdown",
   "metadata": {},
   "source": [
    "# Summary Statistics"
   ]
  },
  {
   "cell_type": "code",
   "execution_count": 9,
   "metadata": {
    "scrolled": false
   },
   "outputs": [
    {
     "data": {
      "text/html": [
       "<div>\n",
       "<style scoped>\n",
       "    .dataframe tbody tr th:only-of-type {\n",
       "        vertical-align: middle;\n",
       "    }\n",
       "\n",
       "    .dataframe tbody tr th {\n",
       "        vertical-align: top;\n",
       "    }\n",
       "\n",
       "    .dataframe thead th {\n",
       "        text-align: right;\n",
       "    }\n",
       "</style>\n",
       "<table border=\"1\" class=\"dataframe\">\n",
       "  <thead>\n",
       "    <tr style=\"text-align: right;\">\n",
       "      <th></th>\n",
       "      <th>count</th>\n",
       "      <th>mean</th>\n",
       "      <th>std</th>\n",
       "      <th>min</th>\n",
       "      <th>25%</th>\n",
       "      <th>50%</th>\n",
       "      <th>75%</th>\n",
       "      <th>max</th>\n",
       "    </tr>\n",
       "  </thead>\n",
       "  <tbody>\n",
       "    <tr>\n",
       "      <th>age</th>\n",
       "      <td>259874.0</td>\n",
       "      <td>46.843082</td>\n",
       "      <td>9.919787</td>\n",
       "      <td>21.00</td>\n",
       "      <td>40.00</td>\n",
       "      <td>47.00</td>\n",
       "      <td>53.000</td>\n",
       "      <td>94.00</td>\n",
       "    </tr>\n",
       "    <tr>\n",
       "      <th>churn</th>\n",
       "      <td>259874.0</td>\n",
       "      <td>0.139267</td>\n",
       "      <td>0.346226</td>\n",
       "      <td>0.00</td>\n",
       "      <td>0.00</td>\n",
       "      <td>0.00</td>\n",
       "      <td>0.000</td>\n",
       "      <td>1.00</td>\n",
       "    </tr>\n",
       "    <tr>\n",
       "      <th>days_since_last_login</th>\n",
       "      <td>259874.0</td>\n",
       "      <td>12.520929</td>\n",
       "      <td>13.614087</td>\n",
       "      <td>0.25</td>\n",
       "      <td>2.50</td>\n",
       "      <td>7.50</td>\n",
       "      <td>17.000</td>\n",
       "      <td>120.96</td>\n",
       "    </tr>\n",
       "    <tr>\n",
       "      <th>income</th>\n",
       "      <td>259874.0</td>\n",
       "      <td>24982.319681</td>\n",
       "      <td>16043.830771</td>\n",
       "      <td>479.79</td>\n",
       "      <td>14932.15</td>\n",
       "      <td>19609.66</td>\n",
       "      <td>32884.425</td>\n",
       "      <td>113334.75</td>\n",
       "    </tr>\n",
       "    <tr>\n",
       "      <th>orders</th>\n",
       "      <td>259874.0</td>\n",
       "      <td>3.576295</td>\n",
       "      <td>4.126803</td>\n",
       "      <td>1.00</td>\n",
       "      <td>1.00</td>\n",
       "      <td>2.00</td>\n",
       "      <td>3.000</td>\n",
       "      <td>20.00</td>\n",
       "    </tr>\n",
       "    <tr>\n",
       "      <th>product_count</th>\n",
       "      <td>259874.0</td>\n",
       "      <td>6.856023</td>\n",
       "      <td>6.761355</td>\n",
       "      <td>1.00</td>\n",
       "      <td>3.00</td>\n",
       "      <td>5.00</td>\n",
       "      <td>8.000</td>\n",
       "      <td>40.00</td>\n",
       "    </tr>\n",
       "  </tbody>\n",
       "</table>\n",
       "</div>"
      ],
      "text/plain": [
       "                          count          mean           std     min       25%  \\\n",
       "age                    259874.0     46.843082      9.919787   21.00     40.00   \n",
       "churn                  259874.0      0.139267      0.346226    0.00      0.00   \n",
       "days_since_last_login  259874.0     12.520929     13.614087    0.25      2.50   \n",
       "income                 259874.0  24982.319681  16043.830771  479.79  14932.15   \n",
       "orders                 259874.0      3.576295      4.126803    1.00      1.00   \n",
       "product_count          259874.0      6.856023      6.761355    1.00      3.00   \n",
       "\n",
       "                            50%        75%        max  \n",
       "age                       47.00     53.000      94.00  \n",
       "churn                      0.00      0.000       1.00  \n",
       "days_since_last_login      7.50     17.000     120.96  \n",
       "income                 19609.66  32884.425  113334.75  \n",
       "orders                     2.00      3.000      20.00  \n",
       "product_count              5.00      8.000      40.00  "
      ]
     },
     "execution_count": 9,
     "metadata": {},
     "output_type": "execute_result"
    }
   ],
   "source": [
    "summary = customers_data.toPandas().describe().transpose()\n",
    "summary"
   ]
  },
  {
   "cell_type": "markdown",
   "metadata": {},
   "source": [
    "# Insights from above summary table\n",
    "- Average age is about 46 years\n",
    "- About 14% of the customers churned\n",
    "- On average. days since last login for the overall population is 12 days\n",
    "- Average income of customers is approx $25,000\n",
    "- On average, customers have made 3 orders\n",
    "- On average, customers have purchased 6+ products"
   ]
  },
  {
   "cell_type": "markdown",
   "metadata": {},
   "source": [
    "# Advanced Visuals & More Insights\n",
    "- Insights: Income distribution increases with age"
   ]
  },
  {
   "cell_type": "code",
   "execution_count": 10,
   "metadata": {
    "scrolled": false
   },
   "outputs": [
    {
     "data": {
      "image/png": "[encoded data removed]",
      "text/plain": [
       "<Figure size 432x288 with 1 Axes>"
      ]
     },
     "metadata": {
      "needs_background": "light"
     },
     "output_type": "display_data"
    }
   ],
   "source": [
    "sns.boxplot(x=\"age_numeric\", y=\"income\", data=data).set_title('Income by Age Bucket')\n",
    "plt.xlabel(\"Age Group\")\n",
    "plt.ylabel(\"Annual Income\")\n",
    "plt.show()"
   ]
  },
  {
   "cell_type": "markdown",
   "metadata": {
    "collapsed": true
   },
   "source": [
    "# 4. Create a machine learning pipeline using Apache Spark\n"
   ]
  },
  {
   "cell_type": "markdown",
   "metadata": {},
   "source": [
    "A pipeline is a method of organizing machine learning algorithms into a workflow for reuse.\n",
    "This method builds a sequence of activity stages for analysis, such as defining feature parameters, estimating data, and transforming data. You can test and write a pipeline in the\n",
    "Magellan Notebook and then publish it to Magellan Data Discovery to enable users to apply the pipeline to their own data sets."
   ]
  },
  {
   "cell_type": "markdown",
   "metadata": {},
   "source": [
    "As an example, here we are building a pipleine that predicts whether or not a customer will churn based on various demographic and product usage characteristics about the customer. \n",
    "\n",
    "Stages in Customer Churn Model Pipeline:\n",
    "1. We will organize data into required format so that a machine learning algorithm can learn a pattern relating to churn. \n",
    "2. We will specify the inputs for the Machine learning algorithm to train a model on\n",
    "3. We will use decision tree algorithm to predict whether customer will churn or not\n",
    "4. We will initialize the pipeline with a training data set. The initialized pipeline is then saved as a model in the Magellan data lake and then published to Data Discovery"
   ]
  },
  {
   "cell_type": "code",
   "execution_count": 11,
   "metadata": {},
   "outputs": [],
   "source": [
    "# Upload spark utility packages\n",
    "from pyspark.sql.types import *\n",
    "from pyspark.sql.functions import *\n",
    "from pyspark.ml import Pipeline\n",
    "from pyspark.ml.classification import DecisionTreeClassifier\n",
    "from pyspark.ml.feature import IndexToString, StringIndexer, VectorIndexer,VectorAssembler, OneHotEncoder\n",
    "from pyspark.mllib.evaluation import BinaryClassificationMetrics"
   ]
  },
  {
   "cell_type": "markdown",
   "metadata": {},
   "source": [
    "- Stage 1 - setup the right variable format\n"
   ]
  },
  {
   "cell_type": "code",
   "execution_count": 12,
   "metadata": {
    "scrolled": false
   },
   "outputs": [],
   "source": [
    "stages = [] # stages in our Pipeline\n",
    "\n",
    "cat_input_all = ['occupation_decode', 'gender_decode', 'age_numeric']\n",
    "cat_input = ['occupation_decode', 'gender_decode'] # age is not being used\n",
    "\n",
    "# Category Indexing with StringIndexer\n",
    "indexers = [StringIndexer(inputCol = column, outputCol = column+\"_index\") for column in cat_input]\n",
    "\n",
    "# Use OneHotEncoder to convert categorical variables into binary SparseVectors\n",
    "encoders = [OneHotEncoder(inputCol = column+\"_index\", outputCol = column+\"_dummy\") for column in cat_input]\n",
    "\n",
    "# numerical columns\n",
    "num_input = list(set(customers_data.columns) - set(['churn']) - set(cat_input_all))\n",
    "\n",
    "# convert churn to label\n",
    "labelIndexer = StringIndexer(inputCol=\"churn\", outputCol=\"label\").fit(customers_data.select(\"churn\"))"
   ]
  },
  {
   "cell_type": "markdown",
   "metadata": {},
   "source": [
    "- Stage 2 - assemble and join columns required for building a model\n"
   ]
  },
  {
   "cell_type": "code",
   "execution_count": 13,
   "metadata": {},
   "outputs": [],
   "source": [
    "input_cols = []\n",
    "for i in cat_input:\n",
    "      input_cols.append(i+\"_dummy\")\n",
    "for i in num_input:\n",
    "      input_cols.append(i)\n",
    "        \n",
    "# assemble all inputs\n",
    "assembler = VectorAssembler(inputCols= input_cols, outputCol=\"features\")"
   ]
  },
  {
   "cell_type": "markdown",
   "metadata": {
    "collapsed": true
   },
   "source": [
    "# 5. Train, test and evaluate a decision tree model"
   ]
  },
  {
   "cell_type": "markdown",
   "metadata": {},
   "source": [
    "Decision trees generate white-box classification and regression models which can be used for feature selection and sample prediction. The transparency of these models is a big advantage over black-box learners, because the models are easy to understand and interpret, and they can be readily extracted and implemented in any programming language (with nested if-else statements) for use in production environments. Furthermore, decision trees require almost no data preparation (ie normalization) and can handle both categorical and continuous data. To remedy over-fitting and improve prediction accuracy, decision trees can also be limited to a certain depth or complexity, or bundled into ensembles of trees (ie random forests)."
   ]
  },
  {
   "cell_type": "markdown",
   "metadata": {},
   "source": [
    "A decision tree is a predictive model which maps observations (features) about an item to conclusions about the item's label or class. The model is generated using a top-down approach, where the source dataset is split into subsets using a statistical measure, often in the form of the Gini index or information gain via Shannon entropy. This process is applied recursively until a subset contains only samples with the same target class, or is halted by a predefined stopping criteria."
   ]
  },
  {
   "cell_type": "markdown",
   "metadata": {},
   "source": [
    "- stage 3 - train decision tree model\n"
   ]
  },
  {
   "cell_type": "code",
   "execution_count": 14,
   "metadata": {},
   "outputs": [],
   "source": [
    "# create a training and test set\n",
    "(trainingData, testData) = customers_data.randomSplit([0.7, 0.3])"
   ]
  },
  {
   "cell_type": "code",
   "execution_count": 15,
   "metadata": {},
   "outputs": [],
   "source": [
    "decisionTree = DecisionTreeClassifier(labelCol=\"label\", featuresCol=\"features\",maxDepth=2)"
   ]
  },
  {
   "cell_type": "code",
   "execution_count": 16,
   "metadata": {},
   "outputs": [],
   "source": [
    "# join all stages together\n",
    "import functools \n",
    "import operator\n",
    "stages = functools.reduce(operator.concat, [indexers, encoders])\n",
    "stages.append(labelIndexer)\n",
    "stages.append(assembler)\n",
    "stages.append(decisionTree)"
   ]
  },
  {
   "cell_type": "markdown",
   "metadata": {},
   "source": [
    "- stage 4 - Initialize the final pipeline on training data \n"
   ]
  },
  {
   "cell_type": "code",
   "execution_count": 17,
   "metadata": {
    "scrolled": false
   },
   "outputs": [],
   "source": [
    "pipeline = Pipeline(stages=stages)\n",
    "final_pipeline = pipeline.fit(trainingData)"
   ]
  },
  {
   "cell_type": "markdown",
   "metadata": {},
   "source": [
    "# Check Predictions and Model Accuracy"
   ]
  },
  {
   "cell_type": "markdown",
   "metadata": {},
   "source": [
    "- Now, we will test the above trained machine learning model on a sample test dataset that was not included in creating a machine learning model. This allows us to validate how well the model will perform in the real world. In order to validate performance, we will use a measure called AUC - ROC\n",
    "- AUC - ROC curve is a performance measurement for classification problem at various thresholds settings. It tells us how well the model is capable of distinguishing between classes - meaning customer will churn or will not churn. Higher the AUC (highest is 1), better the model is at predicting customers who will churn as churn and those wont churn as wont churn."
   ]
  },
  {
   "cell_type": "code",
   "execution_count": 18,
   "metadata": {
    "scrolled": true
   },
   "outputs": [],
   "source": [
    "# predict for testset\n",
    "predictions = final_pipeline.transform(testData)"
   ]
  },
  {
   "cell_type": "code",
   "execution_count": 19,
   "metadata": {},
   "outputs": [],
   "source": [
    "# select actual and prediction values in test data \n",
    "predictionAndLabels = predictions.select('prediction', 'label')"
   ]
  },
  {
   "cell_type": "code",
   "execution_count": 20,
   "metadata": {},
   "outputs": [
    {
     "name": "stdout",
     "output_type": "stream",
     "text": [
      "Area under ROC = 0.9640896856194666\n"
     ]
    }
   ],
   "source": [
    "# calculate auc - roc metric on test dataset\n",
    "metrics = BinaryClassificationMetrics(predictionAndLabels.rdd)\n",
    "print(\"Area under ROC = %s\" % metrics.areaUnderROC)"
   ]
  },
  {
   "cell_type": "markdown",
   "metadata": {},
   "source": [
    "- Our AUC - ROC is 0.96 (Great Model)\n",
    "- Now, we are all set to publish and deploy this model"
   ]
  },
  {
   "cell_type": "markdown",
   "metadata": {},
   "source": [
    "# 6. Store the pipeline in the Magellan Data Lake Hadoop Repository\n"
   ]
  },
  {
   "cell_type": "code",
   "execution_count": 21,
   "metadata": {},
   "outputs": [],
   "source": [
    "final_pipeline.write().overwrite().save(\"hdfs://mag-hdp1/OpenText/models/PredictCustomerChurn\")"
   ]
  },
  {
   "cell_type": "markdown",
   "metadata": {},
   "source": [
    "# 7. Explore and visualize the prediction results\n"
   ]
  },
  {
   "cell_type": "markdown",
   "metadata": {},
   "source": [
    "- Insights from below: Customers that are likely to churn havent logged into the website portal account for a longer time than non churners"
   ]
  },
  {
   "cell_type": "code",
   "execution_count": 23,
   "metadata": {},
   "outputs": [],
   "source": [
    "# select columns\n",
    "predicted_data = predictions.select('age','days_since_last_login','orders','label','product_count','income')"
   ]
  },
  {
   "cell_type": "code",
   "execution_count": 24,
   "metadata": {},
   "outputs": [],
   "source": [
    "predicted_df = predicted_data.toPandas() # convert to pandas"
   ]
  },
  {
   "cell_type": "code",
   "execution_count": 25,
   "metadata": {
    "scrolled": false
   },
   "outputs": [
    {
     "data": {
      "image/png": "[encoded data removed]",
      "text/plain": [
       "<Figure size 432x288 with 1 Axes>"
      ]
     },
     "metadata": {
      "needs_background": "light"
     },
     "output_type": "display_data"
    }
   ],
   "source": [
    "sns.boxplot(x=\"label\", y=\"days_since_last_login\", data=predicted_df).set_title('days_since_last_login by Churn')\n",
    "plt.xlabel(\"Churn\")\n",
    "plt.ylabel(\"days_since_last_login\")\n",
    "plt.show()"
   ]
  },
  {
   "cell_type": "markdown",
   "metadata": {},
   "source": [
    "# 8. Publish & deploy the machine learning pipeline to Big Data Analytics\n",
    "Click on Publish to BDA and complete the form as follows:\n",
    "- In User, type your Big Data Analytics username@magellan\n",
    "- In Password, type your Big Data Analytics password\n",
    "- In Repository, select Spark.\n",
    "- In Name, type Customer Churn Model\n",
    "- In Category, select Categorical Classifier\n",
    "- The model path for this demo environment is hdfs://mag-hdp1/OpenText/models/PredictCustomerChurn. It uses the format hdfs://ambari/OpenText/models/<model_name>, without the final slash. This process will not create new folders. The folder that contains the model must exist. Step 6 will create the required folders for this. Example: type hdfs://mag-hdp1/OpenText/models/PredictCustomerChurn. Replace the name ambari with the hostname of your server running the Ambari dashboard, in this environment it's mag-hdp1\n",
    "- In Dataframe variable, type trainingData, and choose Obtain. These are the input fields needed to run the pipeline from Big Data Analytics. Remove churn from the list since that is not required as an input. Also, remove \"age_numeric\"\n",
    "- Set the versioning to Overwrite current version (so we don't end up with a million similar models)\n",
    "- Set the security to Shared with me only, and choose Publish\n",
    "- Close the window that says your model was published. Next, close the Publish dialog.\n",
    "- Your analytic pipeline is now available for users in Big Data Analytics when they are connected to the Spark repository\n",
    "- Apply new data with same inputs and execute model from Big Data Analytics"
   ]
  },
  {
   "cell_type": "markdown",
   "metadata": {},
   "source": [
    "# Done!"
   ]
  },
  {
   "cell_type": "markdown",
   "metadata": {},
   "source": [
    "# ============================================================="
   ]
  },
  {
   "cell_type": "markdown",
   "metadata": {},
   "source": [
    "# Author"
   ]
  },
  {
   "cell_type": "markdown",
   "metadata": {},
   "source": [
    "Arjun Arora is a Data Scientist at Opentext. He specializes in technology evangelism, data science training, demos, and proof of concepts, that leverage Opentext Magellan and Big Data technologies, such as, Apache Hadoop and Apache Spark. "
   ]
  }
 ],
 "metadata": {
  "kernelspec": {
   "display_name": "Magellan - PySpark",
   "language": "python",
   "name": "magellan_pyspark"
  },
  "language_info": {
   "codemirror_mode": {
    "name": "ipython",
    "version": 3
   },
   "file_extension": ".py",
   "mimetype": "text/x-python",
   "name": "python",
   "nbconvert_exporter": "python",
   "pygments_lexer": "ipython3",
   "version": "3.7.4"
  }
 },
 "nbformat": 4,
 "nbformat_minor": 2
}
